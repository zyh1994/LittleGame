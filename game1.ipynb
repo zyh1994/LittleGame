{
 "cells": [
  {
   "cell_type": "code",
   "execution_count": 24,
   "metadata": {},
   "outputs": [],
   "source": [
    "import random\n",
    "from matplotlib import pyplot as plt\n",
    "random.seed(123)"
   ]
  },
  {
   "cell_type": "code",
   "execution_count": 31,
   "metadata": {},
   "outputs": [],
   "source": [
    "def random_send_money(pop_num:int=100,some_rich:int=10,some_hard:int=10,times:int=17000,base_money:int=100,extend_time:int=5):\n",
    "    arr=[base_money for _ in range(pop_num)]\n",
    "    arr[:some_rich]=[base_money*extend_time for _ in range(some_rich)]\n",
    "    hard_pop=arr[some_rich:some_rich+some_hard]\n",
    "    print(arr)\n",
    "    for _ in range(times):\n",
    "        for i in range(pop_num):\n",
    "            if arr[i]<=0:\n",
    "                continue\n",
    "            id=random.randint(0,pop_num-1)\n",
    "            # print(id)\n",
    "            arr[i]=arr[i]-1\n",
    "            arr[id]=arr[id]+1\n",
    "            if i in hard_pop and random.random()<=0.1:\n",
    "                arr[i]=arr[i]+1\n",
    "                id=random.randint(0,pop_num-1)\n",
    "                arr[id]=arr[id]-1\n",
    "    # arr.sort()\n",
    "    # plt.boxplot(arr)\n",
    "    print(arr)\n",
    "    plt.hist(arr)\n",
    "    plt.show()"
   ]
  },
  {
   "cell_type": "code",
   "execution_count": 35,
   "metadata": {},
   "outputs": [
    {
     "name": "stdout",
     "output_type": "stream",
     "text": [
      "[500, 500, 500, 500, 500, 500, 500, 500, 500, 500, 100, 100, 100, 100, 100, 100, 100, 100, 100, 100, 100, 100, 100, 100, 100, 100, 100, 100, 100, 100, 100, 100, 100, 100, 100, 100, 100, 100, 100, 100, 100, 100, 100, 100, 100, 100, 100, 100, 100, 100, 100, 100, 100, 100, 100, 100, 100, 100, 100, 100, 100, 100, 100, 100, 100, 100, 100, 100, 100, 100, 100, 100, 100, 100, 100, 100, 100, 100, 100, 100, 100, 100, 100, 100, 100, 100, 100, 100, 100, 100, 100, 100, 100, 100, 100, 100, 100, 100, 100, 100]\n",
      "[483, 534, 382, 608, 514, 425, 241, 499, 573, 325, 41, 107, 77, 229, 120, 193, 20, 105, 147, 129, 91, 60, 51, 5, 202, 15, 172, 298, 11, 21, 182, 43, 23, 92, 149, 31, 87, 433, 233, 237, 36, 22, 0, 96, 185, 17, 4, 23, 80, 43, 18, 283, 13, 42, 14, 14, 3, 16, 13, 79, 57, 78, 96, 62, 228, 51, 273, 29, 217, 99, 70, 55, 374, 107, 224, 258, 42, 370, 442, 4, 31, 0, 27, 147, 188, 101, 13, 26, 36, 83, 145, 10, 49, 49, 326, 82, 132, 8, 44, 178]\n"
     ]
    },
    {
     "data": {
      "image/png": "[encoded data removed]",
      "text/plain": [
       "<Figure size 640x480 with 1 Axes>"
      ]
     },
     "metadata": {},
     "output_type": "display_data"
    }
   ],
   "source": [
    "random_send_money()\n",
    "# x=[1, 2, 3, 4]\n",
    "# #y坐标轴上点的数值\n",
    "# y=[1, 4, 9, 16]\n",
    "# #第2步：使用plot绘制线条第1个参数是x的坐标值，第2个参数是y的坐标值\n",
    "# plt.plot(x,y)\n",
    "# #第3步：显示图形\n",
    "# plt.show()"
   ]
  }
 ],
 "metadata": {
  "kernelspec": {
   "display_name": "Python 3",
   "language": "python",
   "name": "python3"
  },
  "language_info": {
   "codemirror_mode": {
    "name": "ipython",
    "version": 3
   },
   "file_extension": ".py",
   "mimetype": "text/x-python",
   "name": "python",
   "nbconvert_exporter": "python",
   "pygments_lexer": "ipython3",
   "version": "3.10.13"
  }
 },
 "nbformat": 4,
 "nbformat_minor": 2
}
